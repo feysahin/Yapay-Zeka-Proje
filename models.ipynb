{
 "cells": [
  {
   "cell_type": "code",
   "execution_count": 7,
   "metadata": {},
   "outputs": [],
   "source": [
    "import json\n",
    "import csv\n",
    "import pandas as pd\n",
    "import numpy as np\n",
    "\n",
    "%matplotlib inline\n",
    "import re\n",
    "import matplotlib\n",
    "import matplotlib.pyplot as plt\n",
    "from sklearn.model_selection import train_test_split\n",
    "from sklearn.feature_extraction.text import TfidfVectorizer, CountVectorizer\n",
    "from sklearn.naive_bayes import MultinomialNB\n",
    "from sklearn.metrics import confusion_matrix, classification_report, accuracy_score, precision_score, recall_score, f1_score\n",
    "from sklearn import svm\n",
    "from sklearn.linear_model import LogisticRegression\n",
    "from sklearn.pipeline import Pipeline\n",
    "from sklearn.feature_extraction.text import TfidfTransformer\n",
    "\n",
    "from snowballstemmer import stemmer\n",
    "import nltk\n",
    "from nltk.tokenize import word_tokenize, sent_tokenize\n",
    "from nltk.corpus import stopwords\n",
    "\n",
    "from sklearn.svm import LinearSVC, SVC\n",
    "from sklearn.linear_model import LogisticRegression\n",
    "from sklearn.pipeline import Pipeline, make_pipeline\n",
    "import seaborn as sns\n",
    "import string\n",
    "from sklearn.utils import resample\n",
    "\n",
    "import warnings\n",
    "warnings.filterwarnings('ignore')"
   ]
  },
  {
   "cell_type": "code",
   "execution_count": 2,
   "metadata": {},
   "outputs": [
    {
     "data": {
      "text/html": [
       "<div>\n",
       "<style scoped>\n",
       "    .dataframe tbody tr th:only-of-type {\n",
       "        vertical-align: middle;\n",
       "    }\n",
       "\n",
       "    .dataframe tbody tr th {\n",
       "        vertical-align: top;\n",
       "    }\n",
       "\n",
       "    .dataframe thead th {\n",
       "        text-align: right;\n",
       "    }\n",
       "</style>\n",
       "<table border=\"1\" class=\"dataframe\">\n",
       "  <thead>\n",
       "    <tr style=\"text-align: right;\">\n",
       "      <th></th>\n",
       "      <th>Place</th>\n",
       "      <th>Description</th>\n",
       "      <th>Tourism</th>\n",
       "    </tr>\n",
       "  </thead>\n",
       "  <tbody>\n",
       "    <tr>\n",
       "      <th>0</th>\n",
       "      <td>SÜMELA MANASTIRI</td>\n",
       "      <td>sümela manastırı meryem ana manastırı nerededi...</td>\n",
       "      <td>İnanç</td>\n",
       "    </tr>\n",
       "    <tr>\n",
       "      <th>1</th>\n",
       "      <td>IHLARA VADİSİ</td>\n",
       "      <td>tarihi kaynaklardaki adı peristremma olan ihla...</td>\n",
       "      <td>Doğa</td>\n",
       "    </tr>\n",
       "    <tr>\n",
       "      <th>2</th>\n",
       "      <td>DARA ANTİK KENTİ</td>\n",
       "      <td>dara antik kenti mardin’in 30 kilometre güneyd...</td>\n",
       "      <td>Kültür</td>\n",
       "    </tr>\n",
       "    <tr>\n",
       "      <th>3</th>\n",
       "      <td>KIZ KALESİ</td>\n",
       "      <td>deniz kalesi olarak bilinen kız kalesi adını v...</td>\n",
       "      <td>Kültür</td>\n",
       "    </tr>\n",
       "    <tr>\n",
       "      <th>4</th>\n",
       "      <td>TİTUS TÜNELİ VE BEŞİKLİ MAĞARA</td>\n",
       "      <td>hatayın samandağ i lçesi çevlik örenyeri yakın...</td>\n",
       "      <td>Doğa</td>\n",
       "    </tr>\n",
       "    <tr>\n",
       "      <th>...</th>\n",
       "      <td>...</td>\n",
       "      <td>...</td>\n",
       "      <td>...</td>\n",
       "    </tr>\n",
       "    <tr>\n",
       "      <th>3266</th>\n",
       "      <td>YÜZBAŞISUYU ÇEŞMESİ</td>\n",
       "      <td>sel değirmeni mahallesi yüzbaşısuyu sokak’ta y...</td>\n",
       "      <td>Kültür</td>\n",
       "    </tr>\n",
       "    <tr>\n",
       "      <th>3267</th>\n",
       "      <td>YEDİKUYULAR KAYAK MERKEZİ</td>\n",
       "      <td>kahramanmaraş ili dulkadiroğlu ilçesi yedikuyu...</td>\n",
       "      <td>Kış</td>\n",
       "    </tr>\n",
       "    <tr>\n",
       "      <th>3268</th>\n",
       "      <td>SALDA GÖLÜ</td>\n",
       "      <td>salda gölü burdur’un yaklaşık 64 km batısında ...</td>\n",
       "      <td>Doğa</td>\n",
       "    </tr>\n",
       "    <tr>\n",
       "      <th>3269</th>\n",
       "      <td>ANKARA KALESİ</td>\n",
       "      <td>ankara’nın sembollerinden olan ankara kalesi’n...</td>\n",
       "      <td>Kültür</td>\n",
       "    </tr>\n",
       "    <tr>\n",
       "      <th>3270</th>\n",
       "      <td>ŞAR ÖRENYERİ</td>\n",
       "      <td>şar örenyeri tufanbeyli ilçesinin kuzey ucunda...</td>\n",
       "      <td>Kültür</td>\n",
       "    </tr>\n",
       "  </tbody>\n",
       "</table>\n",
       "<p>3271 rows × 3 columns</p>\n",
       "</div>"
      ],
      "text/plain": [
       "                               Place  \\\n",
       "0                   SÜMELA MANASTIRI   \n",
       "1                      IHLARA VADİSİ   \n",
       "2                   DARA ANTİK KENTİ   \n",
       "3                        KIZ KALESİ    \n",
       "4     TİTUS TÜNELİ VE BEŞİKLİ MAĞARA   \n",
       "...                              ...   \n",
       "3266             YÜZBAŞISUYU ÇEŞMESİ   \n",
       "3267       YEDİKUYULAR KAYAK MERKEZİ   \n",
       "3268                      SALDA GÖLÜ   \n",
       "3269                   ANKARA KALESİ   \n",
       "3270                    ŞAR ÖRENYERİ   \n",
       "\n",
       "                                            Description Tourism  \n",
       "0     sümela manastırı meryem ana manastırı nerededi...   İnanç  \n",
       "1     tarihi kaynaklardaki adı peristremma olan ihla...    Doğa  \n",
       "2     dara antik kenti mardin’in 30 kilometre güneyd...  Kültür  \n",
       "3     deniz kalesi olarak bilinen kız kalesi adını v...  Kültür  \n",
       "4     hatayın samandağ i lçesi çevlik örenyeri yakın...    Doğa  \n",
       "...                                                 ...     ...  \n",
       "3266  sel değirmeni mahallesi yüzbaşısuyu sokak’ta y...  Kültür  \n",
       "3267  kahramanmaraş ili dulkadiroğlu ilçesi yedikuyu...     Kış  \n",
       "3268  salda gölü burdur’un yaklaşık 64 km batısında ...    Doğa  \n",
       "3269  ankara’nın sembollerinden olan ankara kalesi’n...  Kültür  \n",
       "3270  şar örenyeri tufanbeyli ilçesinin kuzey ucunda...  Kültür  \n",
       "\n",
       "[3271 rows x 3 columns]"
      ]
     },
     "execution_count": 2,
     "metadata": {},
     "output_type": "execute_result"
    }
   ],
   "source": [
    "df = pd.read_csv('preprocessed_df.csv', sep='\\t')\n",
    "df.drop(\"Unnamed: 0\", axis=1, inplace=True)\n",
    "df.drop(\"Unnamed: 0.1\", axis=1, inplace=True)\n",
    "df"
   ]
  },
  {
   "cell_type": "code",
   "execution_count": 5,
   "metadata": {},
   "outputs": [
    {
     "name": "stdout",
     "output_type": "stream",
     "text": [
      "(2289,)\n",
      "(982,)\n"
     ]
    }
   ],
   "source": [
    "X = df.Description\n",
    "y = df.Tourism\n",
    "X_train, X_test, y_train, y_test = train_test_split(X, y, random_state=42, test_size=0.3, shuffle=True)\n",
    "\n",
    "print(X_train.shape)\n",
    "print(X_test.shape)"
   ]
  },
  {
   "cell_type": "code",
   "execution_count": 6,
   "metadata": {},
   "outputs": [
    {
     "data": {
      "text/plain": [
       "array(['Doğa', 'Kültür', 'Kış', 'Termal', 'İnanç'], dtype=object)"
      ]
     },
     "execution_count": 6,
     "metadata": {},
     "output_type": "execute_result"
    }
   ],
   "source": [
    "np.unique(df['Tourism'])"
   ]
  },
  {
   "cell_type": "code",
   "execution_count": 7,
   "metadata": {},
   "outputs": [
    {
     "name": "stdout",
     "output_type": "stream",
     "text": [
      "Precision: 0.5242\n",
      "Recall: 0.5056\n",
      "Accuracy: 0.8534\n",
      "F1 Score: 0.5129\n",
      "              precision    recall  f1-score   support\n",
      "\n",
      "        Doğa       0.92      0.77      0.84       221\n",
      "      Kültür       0.81      0.91      0.86       476\n",
      "         Kış       0.00      0.00      0.00         3\n",
      "      Termal       0.00      0.00      0.00         6\n",
      "       İnanç       0.88      0.84      0.86       276\n",
      "\n",
      "    accuracy                           0.85       982\n",
      "   macro avg       0.52      0.51      0.51       982\n",
      "weighted avg       0.85      0.85      0.85       982\n",
      "\n"
     ]
    },
    {
     "data": {
      "image/png": "[encoded data removed]",
      "text/plain": [
       "<Figure size 432x288 with 2 Axes>"
      ]
     },
     "metadata": {
      "needs_background": "light"
     },
     "output_type": "display_data"
    }
   ],
   "source": [
    "lr = Pipeline([('vect', CountVectorizer()),\n",
    "               ('tfidf', TfidfTransformer()),\n",
    "               ('clf', LogisticRegression()),\n",
    "              ])\n",
    "\n",
    "lr.fit(X_train, y_train)\n",
    "y_pred = lr.predict(X_test)\n",
    "\n",
    "print('Precision: %.4f' % precision_score(y_test, y_pred, average='macro'))\n",
    "print('Recall: %.4f' % recall_score(y_test, y_pred, average='macro'))\n",
    "print('Accuracy: %.4f' % accuracy_score(y_test, y_pred))\n",
    "print('F1 Score: %.4f' % f1_score(y_test, y_pred, average='macro'))\n",
    "print(classification_report(y_test, y_pred))\n",
    "\n",
    "table = sns.heatmap(confusion_matrix(y_test, y_pred)/np.sum(confusion_matrix(y_test, y_pred), axis=1)[:, np.newaxis], \n",
    "                    annot=True, fmt='.2f', cmap='Blues')\n",
    "table.set_xlabel('\\nPredicted Values')\n",
    "table.set_ylabel('Actual Values')\n",
    "plt.show()"
   ]
  },
  {
   "cell_type": "code",
   "execution_count": 8,
   "metadata": {},
   "outputs": [
    {
     "data": {
      "text/plain": [
       "array(['Doğa', 'Kültür', 'Kış', 'Termal', 'İnanç'], dtype=object)"
      ]
     },
     "execution_count": 8,
     "metadata": {},
     "output_type": "execute_result"
    }
   ],
   "source": [
    "np.unique(df['Tourism'])"
   ]
  },
  {
   "cell_type": "code",
   "execution_count": 9,
   "metadata": {},
   "outputs": [
    {
     "data": {
      "text/plain": [
       "<AxesSubplot:xlabel='Tourism', ylabel='count'>"
      ]
     },
     "execution_count": 9,
     "metadata": {},
     "output_type": "execute_result"
    },
    {
     "data": {
      "image/png": "[encoded data removed]",
      "text/plain": [
       "<Figure size 432x288 with 1 Axes>"
      ]
     },
     "metadata": {
      "needs_background": "light"
     },
     "output_type": "display_data"
    }
   ],
   "source": [
    "sns.countplot(df['Tourism'])"
   ]
  },
  {
   "cell_type": "code",
   "execution_count": 3,
   "metadata": {},
   "outputs": [],
   "source": [
    "# verisetini dengeli (balanced) hale getirme\n",
    "\n",
    "df_termal = df[(df['Tourism']=='Termal')]\n",
    "\n",
    "termal_upsampled = resample(df_termal, \n",
    "                             replace=True,\n",
    "                             n_samples= len(df[df['Tourism'] == 'Doğa']),\n",
    "                             random_state=42)\n",
    "\n",
    "\n",
    "df_kis = df[(df['Tourism']=='Kış')]\n",
    "\n",
    "kis_upsampled = resample(df_kis, \n",
    "                             replace=True,\n",
    "                             n_samples= len(df[df['Tourism'] == 'Doğa']),\n",
    "                             random_state=42)\n",
    "\n",
    "\n",
    "df = pd.concat([termal_upsampled, df])\n",
    "df = pd.concat([df, kis_upsampled])"
   ]
  },
  {
   "cell_type": "code",
   "execution_count": 4,
   "metadata": {},
   "outputs": [
    {
     "data": {
      "text/plain": [
       "<AxesSubplot:xlabel='Tourism', ylabel='count'>"
      ]
     },
     "execution_count": 4,
     "metadata": {},
     "output_type": "execute_result"
    },
    {
     "data": {
      "image/png": "[encoded data removed]",
      "text/plain": [
       "<Figure size 432x288 with 1 Axes>"
      ]
     },
     "metadata": {
      "needs_background": "light"
     },
     "output_type": "display_data"
    }
   ],
   "source": [
    "sns.countplot(df['Tourism'])"
   ]
  },
  {
   "cell_type": "code",
   "execution_count": 5,
   "metadata": {},
   "outputs": [
    {
     "name": "stdout",
     "output_type": "stream",
     "text": [
      "(3350,)\n",
      "(1437,)\n"
     ]
    }
   ],
   "source": [
    "X = df.Description\n",
    "y = df.Tourism\n",
    "X_train, X_test, y_train, y_test = train_test_split(X, y, random_state=42, test_size=0.3, shuffle=True)\n",
    "\n",
    "print(X_train.shape)\n",
    "print(X_test.shape)"
   ]
  },
  {
   "cell_type": "markdown",
   "metadata": {},
   "source": [
    "## Logistic Regression"
   ]
  },
  {
   "cell_type": "code",
   "execution_count": 8,
   "metadata": {},
   "outputs": [
    {
     "name": "stdout",
     "output_type": "stream",
     "text": [
      "Precision: 0.9321\n",
      "Recall: 0.9067\n",
      "Accuracy: 0.9088\n",
      "F1 Score: 0.9167\n",
      "              precision    recall  f1-score   support\n",
      "\n",
      "        Doğa       0.95      0.82      0.88       217\n",
      "      Kültür       0.81      0.93      0.87       452\n",
      "         Kış       1.00      1.00      1.00       240\n",
      "      Termal       1.00      1.00      1.00       248\n",
      "       İnanç       0.90      0.78      0.83       280\n",
      "\n",
      "    accuracy                           0.91      1437\n",
      "   macro avg       0.93      0.91      0.92      1437\n",
      "weighted avg       0.91      0.91      0.91      1437\n",
      "\n"
     ]
    },
    {
     "data": {
      "image/png": "[encoded data removed]",
      "text/plain": [
       "<Figure size 432x288 with 2 Axes>"
      ]
     },
     "metadata": {
      "needs_background": "light"
     },
     "output_type": "display_data"
    }
   ],
   "source": [
    "lr = Pipeline([('vect', CountVectorizer()),\n",
    "               ('tfidf', TfidfTransformer()),\n",
    "               ('clf', LogisticRegression()),\n",
    "              ])\n",
    "\n",
    "lr.fit(X_train, y_train)\n",
    "y_pred = lr.predict(X_test)\n",
    "\n",
    "print('Precision: %.4f' % precision_score(y_test, y_pred, average='macro'))\n",
    "print('Recall: %.4f' % recall_score(y_test, y_pred, average='macro'))\n",
    "print('Accuracy: %.4f' % accuracy_score(y_test, y_pred))\n",
    "print('F1 Score: %.4f' % f1_score(y_test, y_pred, average='macro'))\n",
    "print(classification_report(y_test, y_pred))\n",
    "\n",
    "table = sns.heatmap(confusion_matrix(y_test, y_pred)/np.sum(confusion_matrix(y_test, y_pred), axis=1)[:, np.newaxis], \n",
    "                    annot=True, fmt='.2f', cmap='Blues')\n",
    "table.set_xlabel('\\nPredicted Values')\n",
    "table.set_ylabel('Actual Values')\n",
    "plt.show()"
   ]
  },
  {
   "cell_type": "markdown",
   "metadata": {},
   "source": [
    "## Naive Bayes"
   ]
  },
  {
   "cell_type": "code",
   "execution_count": 9,
   "metadata": {},
   "outputs": [
    {
     "name": "stdout",
     "output_type": "stream",
     "text": [
      "Precision: 0.9122\n",
      "Recall: 0.8088\n",
      "Accuracy: 0.8302\n",
      "F1 Score: 0.8315\n",
      "              precision    recall  f1-score   support\n",
      "\n",
      "        Doğa       0.99      0.57      0.73       217\n",
      "      Kültür       0.66      0.98      0.79       452\n",
      "         Kış       0.98      1.00      0.99       240\n",
      "      Termal       0.99      0.97      0.98       248\n",
      "       İnanç       0.94      0.53      0.67       280\n",
      "\n",
      "    accuracy                           0.83      1437\n",
      "   macro avg       0.91      0.81      0.83      1437\n",
      "weighted avg       0.87      0.83      0.82      1437\n",
      "\n"
     ]
    },
    {
     "data": {
      "image/png": "[encoded data removed]",
      "text/plain": [
       "<Figure size 432x288 with 2 Axes>"
      ]
     },
     "metadata": {
      "needs_background": "light"
     },
     "output_type": "display_data"
    }
   ],
   "source": [
    "nb = make_pipeline(TfidfVectorizer(), MultinomialNB()).fit(X_train, y_train)\n",
    "y_pred = nb.predict(X_test)\n",
    "\n",
    "print('Precision: %.4f' % precision_score(y_test, y_pred, average='macro'))\n",
    "print('Recall: %.4f' % recall_score(y_test, y_pred, average='macro'))\n",
    "print('Accuracy: %.4f' % accuracy_score(y_test, y_pred))\n",
    "print('F1 Score: %.4f' % f1_score(y_test, y_pred, average='macro'))\n",
    "print(classification_report(y_test, y_pred))\n",
    "\n",
    "table = sns.heatmap(confusion_matrix(y_test, y_pred)/np.sum(confusion_matrix(y_test, y_pred), axis=1)[:, np.newaxis], \n",
    "                    annot=True, fmt='.2f', cmap='Blues')\n",
    "table.set_xlabel('\\nPredicted Values')\n",
    "table.set_ylabel('Actual Values')\n",
    "plt.show()"
   ]
  },
  {
   "cell_type": "code",
   "execution_count": 10,
   "metadata": {},
   "outputs": [
    {
     "name": "stdout",
     "output_type": "stream",
     "text": [
      "Precision: 0.9333\n",
      "Recall: 0.9031\n",
      "Accuracy: 0.9068\n",
      "F1 Score: 0.9145\n",
      "              precision    recall  f1-score   support\n",
      "\n",
      "        Doğa       0.95      0.82      0.88       217\n",
      "      Kültür       0.80      0.94      0.87       452\n",
      "         Kış       1.00      1.00      1.00       240\n",
      "      Termal       1.00      1.00      1.00       248\n",
      "       İnanç       0.92      0.76      0.83       280\n",
      "\n",
      "    accuracy                           0.91      1437\n",
      "   macro avg       0.93      0.90      0.91      1437\n",
      "weighted avg       0.91      0.91      0.91      1437\n",
      "\n"
     ]
    },
    {
     "data": {
      "image/png": "[encoded data removed]",
      "text/plain": [
       "<Figure size 432x288 with 2 Axes>"
      ]
     },
     "metadata": {
      "needs_background": "light"
     },
     "output_type": "display_data"
    }
   ],
   "source": [
    "lsvm = make_pipeline(TfidfVectorizer(), SVC()).fit(X_train, y_train)\n",
    "\n",
    "y_pred = lsvm.predict(X_test)\n",
    "\n",
    "print('Precision: %.4f' % precision_score(y_test, y_pred, average='macro'))\n",
    "print('Recall: %.4f' % recall_score(y_test, y_pred, average='macro'))\n",
    "print('Accuracy: %.4f' % accuracy_score(y_test, y_pred))\n",
    "print('F1 Score: %.4f' % f1_score(y_test, y_pred, average='macro'))\n",
    "print(classification_report(y_test, y_pred))\n",
    "\n",
    "table = sns.heatmap(confusion_matrix(y_test, y_pred)/np.sum(confusion_matrix(y_test, y_pred), axis=1)[:, np.newaxis], \n",
    "                    annot=True, fmt='.2f', cmap='Blues')\n",
    "table.set_xlabel('\\nPredicted Values')\n",
    "table.set_ylabel('Actual Values')\n",
    "plt.show()"
   ]
  },
  {
   "cell_type": "code",
   "execution_count": 20,
   "metadata": {},
   "outputs": [
    {
     "data": {
      "text/plain": [
       "array(['Doğa'], dtype=object)"
      ]
     },
     "execution_count": 20,
     "metadata": {},
     "output_type": "execute_result"
    }
   ],
   "source": [
    "text = \"Buradaki göl ve dağ bir harika.\"\n",
    "lsvc.predict([text])"
   ]
  },
  {
   "cell_type": "code",
   "execution_count": null,
   "metadata": {},
   "outputs": [],
   "source": []
  }
 ],
 "metadata": {
  "kernelspec": {
   "display_name": "Python 3",
   "language": "python",
   "name": "python3"
  },
  "language_info": {
   "codemirror_mode": {
    "name": "ipython",
    "version": 3
   },
   "file_extension": ".py",
   "mimetype": "text/x-python",
   "name": "python",
   "nbconvert_exporter": "python",
   "pygments_lexer": "ipython3",
   "version": "3.8.5"
  }
 },
 "nbformat": 4,
 "nbformat_minor": 4
}
