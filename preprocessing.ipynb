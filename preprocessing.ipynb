{
 "cells": [
  {
   "cell_type": "code",
   "execution_count": 2,
   "metadata": {},
   "outputs": [],
   "source": [
    "import json\n",
    "import csv\n",
    "import pandas as pd\n",
    "import numpy as np\n",
    "import matplotlib.pyplot as plt\n",
    "import re\n",
    "import nltk\n",
    "from nltk.tokenize import word_tokenize, sent_tokenize\n",
    "from nltk.corpus import stopwords\n",
    "import string"
   ]
  },
  {
   "cell_type": "code",
   "execution_count": 5,
   "metadata": {},
   "outputs": [
    {
     "data": {
      "text/html": [
       "<div>\n",
       "<style scoped>\n",
       "    .dataframe tbody tr th:only-of-type {\n",
       "        vertical-align: middle;\n",
       "    }\n",
       "\n",
       "    .dataframe tbody tr th {\n",
       "        vertical-align: top;\n",
       "    }\n",
       "\n",
       "    .dataframe thead th {\n",
       "        text-align: right;\n",
       "    }\n",
       "</style>\n",
       "<table border=\"1\" class=\"dataframe\">\n",
       "  <thead>\n",
       "    <tr style=\"text-align: right;\">\n",
       "      <th></th>\n",
       "      <th>Place</th>\n",
       "      <th>Description</th>\n",
       "      <th>Tourism</th>\n",
       "    </tr>\n",
       "  </thead>\n",
       "  <tbody>\n",
       "    <tr>\n",
       "      <th>0</th>\n",
       "      <td>SÜMELA MANASTIRI</td>\n",
       "      <td>Sümela Manastırı (Meryem Ana) Manastırı Nerede...</td>\n",
       "      <td>İnanç-Kültür Turizmi</td>\n",
       "    </tr>\n",
       "    <tr>\n",
       "      <th>1</th>\n",
       "      <td>IHLARA VADİSİ</td>\n",
       "      <td>Tarihi kaynaklardaki adı Peristremma olan Ihla...</td>\n",
       "      <td>Doğa-Kültür Turizmi</td>\n",
       "    </tr>\n",
       "    <tr>\n",
       "      <th>2</th>\n",
       "      <td>DARA ANTİK KENTİ</td>\n",
       "      <td>Dara Antik Kenti Mardin’in 30 kilometre güneyd...</td>\n",
       "      <td>Kültür Turizmi</td>\n",
       "    </tr>\n",
       "    <tr>\n",
       "      <th>3</th>\n",
       "      <td>KIZ KALESİ</td>\n",
       "      <td>Deniz Kalesi olarak da bilinen Kız Kalesi, adı...</td>\n",
       "      <td>Kültür Turizmi</td>\n",
       "    </tr>\n",
       "    <tr>\n",
       "      <th>4</th>\n",
       "      <td>TİTUS TÜNELİ VE BEŞİKLİ MAĞARA</td>\n",
       "      <td>Hatay'ın Samandağ İlçesi Çevlik Örenyeri yakın...</td>\n",
       "      <td>Doğa Turizmi</td>\n",
       "    </tr>\n",
       "  </tbody>\n",
       "</table>\n",
       "</div>"
      ],
      "text/plain": [
       "                            Place  \\\n",
       "0                SÜMELA MANASTIRI   \n",
       "1                   IHLARA VADİSİ   \n",
       "2                DARA ANTİK KENTİ   \n",
       "3                     KIZ KALESİ    \n",
       "4  TİTUS TÜNELİ VE BEŞİKLİ MAĞARA   \n",
       "\n",
       "                                         Description               Tourism  \n",
       "0  Sümela Manastırı (Meryem Ana) Manastırı Nerede...  İnanç-Kültür Turizmi  \n",
       "1  Tarihi kaynaklardaki adı Peristremma olan Ihla...   Doğa-Kültür Turizmi  \n",
       "2  Dara Antik Kenti Mardin’in 30 kilometre güneyd...        Kültür Turizmi  \n",
       "3  Deniz Kalesi olarak da bilinen Kız Kalesi, adı...        Kültür Turizmi  \n",
       "4  Hatay'ın Samandağ İlçesi Çevlik Örenyeri yakın...          Doğa Turizmi  "
      ]
     },
     "execution_count": 5,
     "metadata": {},
     "output_type": "execute_result"
    }
   ],
   "source": [
    "with open('my_df.json', encoding='utf-8') as f:\n",
    "    my_json = json.load(f)\n",
    "\n",
    "my_df = pd.DataFrame(my_json)\n",
    "my_df.head()"
   ]
  },
  {
   "cell_type": "code",
   "execution_count": 3,
   "metadata": {},
   "outputs": [
    {
     "data": {
      "text/plain": [
       "array(['Deniz Turizmi', 'Doğa Turizmi', 'Doğa-Kültür Turizmi',\n",
       "       'Kültür Turizmi', 'Kış Turizmi', 'Termal Turizmi', 'Yayla Turizmi',\n",
       "       'İnanç Turizmi', 'İnanç-Kültür Turizmi'], dtype=object)"
      ]
     },
     "execution_count": 3,
     "metadata": {},
     "output_type": "execute_result"
    }
   ],
   "source": [
    "np.unique(my_df['Tourism'])"
   ]
  },
  {
   "cell_type": "code",
   "execution_count": 4,
   "metadata": {},
   "outputs": [],
   "source": [
    "# birleştirilebilecek sınıfları bir label altında toplama\n",
    "\n",
    "my_df.loc[my_df.Tourism == \"Doğa-Kültür Turizmi\", \"Tourism\"] = \"Doğa\"\n",
    "my_df.loc[my_df.Tourism == \"Doğa Turizmi\", \"Tourism\"] = \"Doğa\"\n",
    "my_df.loc[my_df.Tourism == \"İnanç-Kültür Turizmi\", \"Tourism\"] = \"İnanç\"\n",
    "my_df.loc[my_df.Tourism == \"İnanç Turizmi\", \"Tourism\"] = \"İnanç\""
   ]
  },
  {
   "cell_type": "code",
   "execution_count": 9,
   "metadata": {},
   "outputs": [
    {
     "data": {
      "text/plain": [
       "numpy.ndarray"
      ]
     },
     "execution_count": 9,
     "metadata": {},
     "output_type": "execute_result"
    }
   ],
   "source": [
    "type(np.unique(my_df['Tourism']))"
   ]
  },
  {
   "cell_type": "code",
   "execution_count": 5,
   "metadata": {},
   "outputs": [
    {
     "name": "stdout",
     "output_type": "stream",
     "text": [
      "Deniz Turizmi :  19\n",
      "Doğa :  646\n",
      "Kültür Turizmi :  1547\n",
      "Kış Turizmi :  10\n",
      "Termal Turizmi :  30\n",
      "Yayla Turizmi :  93\n",
      "İnanç :  926\n"
     ]
    }
   ],
   "source": [
    "labels = np.unique(my_df['Tourism'])\n",
    "freq = [my_df['Tourism'].value_counts()[i] for i in labels]\n",
    "\n",
    "for i in range(len(labels)):\n",
    "    print(labels[i], ': ', freq[i])"
   ]
  },
  {
   "cell_type": "code",
   "execution_count": 6,
   "metadata": {},
   "outputs": [
    {
     "data": {
      "text/plain": [
       "array(['Doğa', 'Kültür', 'Kış', 'Termal', 'İnanç'], dtype=object)"
      ]
     },
     "execution_count": 6,
     "metadata": {},
     "output_type": "execute_result"
    }
   ],
   "source": [
    "# daha genl bir sınıfa dahil edilebilecek sınıfları o sınıfa dahil etme\n",
    "# yeniden isimlendirme\n",
    "\n",
    "my_df.loc[my_df.Tourism == \"Deniz Turizmi\", \"Tourism\"] = \"Doğa\"\n",
    "my_df.loc[my_df.Tourism == \"Yayla Turizmi\", \"Tourism\"] = \"Doğa\"\n",
    "my_df.loc[my_df.Tourism == \"Kültür Turizmi\", \"Tourism\"] = \"Kültür\"\n",
    "my_df.loc[my_df.Tourism == \"Kış Turizmi\", \"Tourism\"] = \"Kış\"\n",
    "my_df.loc[my_df.Tourism == \"Termal Turizmi\", \"Tourism\"] = \"Termal\"\n",
    "np.unique(my_df['Tourism'])"
   ]
  },
  {
   "cell_type": "code",
   "execution_count": 7,
   "metadata": {},
   "outputs": [],
   "source": [
    "labels = np.unique(my_df['Tourism'])\n",
    "freq = [my_df['Tourism'].value_counts()[i] for i in labels]"
   ]
  },
  {
   "cell_type": "code",
   "execution_count": 8,
   "metadata": {},
   "outputs": [
    {
     "data": {
      "text/html": [
       "<div>\n",
       "<style scoped>\n",
       "    .dataframe tbody tr th:only-of-type {\n",
       "        vertical-align: middle;\n",
       "    }\n",
       "\n",
       "    .dataframe tbody tr th {\n",
       "        vertical-align: top;\n",
       "    }\n",
       "\n",
       "    .dataframe thead th {\n",
       "        text-align: right;\n",
       "    }\n",
       "</style>\n",
       "<table border=\"1\" class=\"dataframe\">\n",
       "  <thead>\n",
       "    <tr style=\"text-align: right;\">\n",
       "      <th></th>\n",
       "      <th>tourism</th>\n",
       "      <th>freq</th>\n",
       "    </tr>\n",
       "  </thead>\n",
       "  <tbody>\n",
       "    <tr>\n",
       "      <th>0</th>\n",
       "      <td>Doğa</td>\n",
       "      <td>758</td>\n",
       "    </tr>\n",
       "    <tr>\n",
       "      <th>1</th>\n",
       "      <td>Kültür</td>\n",
       "      <td>1547</td>\n",
       "    </tr>\n",
       "    <tr>\n",
       "      <th>2</th>\n",
       "      <td>Kış</td>\n",
       "      <td>10</td>\n",
       "    </tr>\n",
       "    <tr>\n",
       "      <th>3</th>\n",
       "      <td>Termal</td>\n",
       "      <td>30</td>\n",
       "    </tr>\n",
       "    <tr>\n",
       "      <th>4</th>\n",
       "      <td>İnanç</td>\n",
       "      <td>926</td>\n",
       "    </tr>\n",
       "  </tbody>\n",
       "</table>\n",
       "</div>"
      ],
      "text/plain": [
       "  tourism  freq\n",
       "0    Doğa   758\n",
       "1  Kültür  1547\n",
       "2     Kış    10\n",
       "3  Termal    30\n",
       "4   İnanç   926"
      ]
     },
     "execution_count": 8,
     "metadata": {},
     "output_type": "execute_result"
    }
   ],
   "source": [
    "freq_df = {'tourism': list(labels),\n",
    "           'freq': freq}\n",
    "freq_df = pd.DataFrame(freq_df)\n",
    "freq_df"
   ]
  },
  {
   "cell_type": "code",
   "execution_count": 10,
   "metadata": {},
   "outputs": [
    {
     "data": {
      "text/plain": [
       "Text(0.5, 0, 'tourism')"
      ]
     },
     "execution_count": 10,
     "metadata": {},
     "output_type": "execute_result"
    },
    {
     "data": {
      "image/png": "[encoded data removed]",
      "text/plain": [
       "<Figure size 576x360 with 1 Axes>"
      ]
     },
     "metadata": {
      "needs_background": "light"
     },
     "output_type": "display_data"
    }
   ],
   "source": [
    "freq_df.plot(x='tourism', y='freq', kind='bar', legend=False, grid=True, figsize=(8, 5))\n",
    "plt.title(\"Number of documents per category\")\n",
    "plt.ylabel('# of documents', fontsize=12)\n",
    "plt.xlabel('tourism', fontsize=12)"
   ]
  },
  {
   "cell_type": "code",
   "execution_count": 11,
   "metadata": {},
   "outputs": [],
   "source": [
    "# SOURCE: https://github.com/apdullahyayik/TrTokenizer\n",
    "\n",
    "from trtokenizer.tr_tokenizer import SentenceTokenizer, WordTokenizer\n",
    "word_tokenizer_object = WordTokenizer()"
   ]
  },
  {
   "cell_type": "code",
   "execution_count": 23,
   "metadata": {},
   "outputs": [],
   "source": [
    "def clean_text(text):\n",
    "    \n",
    "    text = text.lower()   \n",
    "    \n",
    "    text = text.translate(str.maketrans('', '', string.punctuation)) # !\"#$%&'()*+, -./:;<=>?@[\\]^_`{|}~\n",
    "\n",
    "    words = word_tokenizer_object.tokenize(text)\n",
    "\n",
    "    stopWords = set(stopwords.words('turkish'))\n",
    "    new_text = ' '.join(word for word in words if word not in stopWords)\n",
    "\n",
    "    return new_text"
   ]
  },
  {
   "cell_type": "code",
   "execution_count": 24,
   "metadata": {},
   "outputs": [
    {
     "data": {
      "text/plain": [
       "'sümela manastırı meryem ana manastırı nerededirtrabzon’un maçka i lçesinin altındere köyü sınırları içinde altındere vadisine hakim karadağ’ın eteklerinde sarp bir kayalık üzerine kurulmuş olan sümela manastırı halk arasında meryem ana adı anılır vadiden yaklaşık 300 metre yükseklikte bulunan yapı konumuyla manastırların şehir dışında ormanlarda mağara su kenarlarında kurulma geleneğini sürdürmüştür meryem ana adına kurulan manastırın sümela adını siyah anlamına gelen melas sözcüğünden aldığı söylenmektedir ismin manastırın kurulduğu koyu renkli karadağlar’ dan geldiği düşünülmekte sümela kelimesi buradaki meryem tasvirinin siyah rengine bağlanabilmektedirsümela manastırının tarihirivayete göre bizans i mparatoru itheodosius zamanında 375395 atina’dan gelen barnabas sophranios isimli iki rahip tarafından kurulmuş olan manastır 6ıncı yüzyılda i mparator justinianus’un manastırın onarılarak genişletilmesini istemesi üzerine generallerinden belisarios tarafından tamir edilmiştirsümela manastırı’nın şimdiki durumuyla varlığını 13üncü yüzyıldan itibaren sürdürdüğü bilinmektedir 1204 tarihinde kurulan trabzon komnenosları prensliği’nden iii alexios 13491390 zamanında manastırın önemi artmış fermanlarla gelir sağlanmıştır iii alexios’un oğlu iii manuel sonraki prensler döneminde sümela yeni fermanlarla zenginleştirilmiştirdoğu karadeniz kıyılarının türk egemenliğine girmesini takiben osmanlı padişahları pek manastırda olduğu sumela’nın haklarını korumuşlar imtiyazlar vermişlerdirsümela manastırı’nın 18 yüzyılda bir bölümü yenilenmiş duvarlar fresklerle süslenmiştir 19 yüzyılda büyük binaların ilave edilmesiyle manastır muhteşem bir görünüm kazanmış zengin parlak dönemini yaşamıştır dönemde son şeklini alan manastır pek yabancı seyyahın ziyaret ettiği yazılarına konu edilen bir yer haline gelmiştir trabzon’un 19161918 yılları arasındaki rus işgali sırasında manastıra el konulmuş 1923den sonra tamamıyla boşaltılmıştırsümela manastırı’nın başlıca bölümleri ana kaya kilisesi şapel mutfak öğrenci odaları misafirhane kütüphane kutsal ayazma’dır yapılar topluluğu oldukça geniş bir alan üzerine inşa edilmiştir manastırın girişinde su getirdiği anlaşılan büyük su kemeri yamaca yaslanmış durumdadır gözlü olan kemerin bugün büyük bölümü yıkılmıştırdar uzun bir merdivenle manastırın ana girişine ulaşılmaktadır giriş kapısının yanında muhafız odaları bulunmaktadır buradan bir merdivenle iç avluya inilmektedir solda manastırın esasını teşkil eden kilise haline getirilen mağaranın önünde çeşitli manastır binaları bulunmaktadır sağ tarafta kütüphane yer almaktadır yine sağda yamacın ön yüzünü kaplayan büyük balkonlu bölüm keşiş odaları misafir odaları olarak kullanılmıştır 1860 yılına tarihlenmektedir avlunun etrafındaki binalarda odalardaki dolapları hücreleri ocakları türk sanatının etkileri görülmektedirmanastırın ana ünitesini meydana getiren kaya kilisesinin ona bitişik şapelin iç dış duvarları fresklerle donatılmıştır kaya kilisesinin içinde avluya bakan duvarda iii alexios dönemine ait fresklerin varlığı tespit edilmiştir şapeldeki freskler 18inci yüzyılın başlarına tarihlenmektedir üç ayrı devirde yapılan üç tabaka görülmektedir alt tabakanın freskleri üstün niteliktedirsümela manastırı’nda yer yer sökülerek alınmış olan oldukça harap bir görünüm taşıyan fresklerde işlenen başlıca konular i ncil’den alınmış sahneler hz i sa meryem ana’nın hayatı ilgili tasvirlerdir'"
      ]
     },
     "execution_count": 24,
     "metadata": {},
     "output_type": "execute_result"
    }
   ],
   "source": [
    "t = my_df['Description'][0]\n",
    "t = clean_text(t)\n",
    "t"
   ]
  },
  {
   "cell_type": "code",
   "execution_count": 26,
   "metadata": {},
   "outputs": [
    {
     "data": {
      "text/html": [
       "<div>\n",
       "<style scoped>\n",
       "    .dataframe tbody tr th:only-of-type {\n",
       "        vertical-align: middle;\n",
       "    }\n",
       "\n",
       "    .dataframe tbody tr th {\n",
       "        vertical-align: top;\n",
       "    }\n",
       "\n",
       "    .dataframe thead th {\n",
       "        text-align: right;\n",
       "    }\n",
       "</style>\n",
       "<table border=\"1\" class=\"dataframe\">\n",
       "  <thead>\n",
       "    <tr style=\"text-align: right;\">\n",
       "      <th></th>\n",
       "      <th>Place</th>\n",
       "      <th>Description</th>\n",
       "      <th>Tourism</th>\n",
       "    </tr>\n",
       "  </thead>\n",
       "  <tbody>\n",
       "    <tr>\n",
       "      <th>0</th>\n",
       "      <td>SÜMELA MANASTIRI</td>\n",
       "      <td>sümela manastırı meryem ana manastırı nerededi...</td>\n",
       "      <td>İnanç</td>\n",
       "    </tr>\n",
       "    <tr>\n",
       "      <th>1</th>\n",
       "      <td>IHLARA VADİSİ</td>\n",
       "      <td>tarihi kaynaklardaki adı peristremma olan ihla...</td>\n",
       "      <td>Doğa</td>\n",
       "    </tr>\n",
       "    <tr>\n",
       "      <th>2</th>\n",
       "      <td>DARA ANTİK KENTİ</td>\n",
       "      <td>dara antik kenti mardin’in 30 kilometre güneyd...</td>\n",
       "      <td>Kültür</td>\n",
       "    </tr>\n",
       "    <tr>\n",
       "      <th>3</th>\n",
       "      <td>KIZ KALESİ</td>\n",
       "      <td>deniz kalesi olarak bilinen kız kalesi adını v...</td>\n",
       "      <td>Kültür</td>\n",
       "    </tr>\n",
       "    <tr>\n",
       "      <th>4</th>\n",
       "      <td>TİTUS TÜNELİ VE BEŞİKLİ MAĞARA</td>\n",
       "      <td>hatayın samandağ i lçesi çevlik örenyeri yakın...</td>\n",
       "      <td>Doğa</td>\n",
       "    </tr>\n",
       "    <tr>\n",
       "      <th>...</th>\n",
       "      <td>...</td>\n",
       "      <td>...</td>\n",
       "      <td>...</td>\n",
       "    </tr>\n",
       "    <tr>\n",
       "      <th>3266</th>\n",
       "      <td>YÜZBAŞISUYU ÇEŞMESİ</td>\n",
       "      <td>sel değirmeni mahallesi yüzbaşısuyu sokak’ta y...</td>\n",
       "      <td>Kültür</td>\n",
       "    </tr>\n",
       "    <tr>\n",
       "      <th>3267</th>\n",
       "      <td>YEDİKUYULAR KAYAK MERKEZİ</td>\n",
       "      <td>kahramanmaraş ili dulkadiroğlu ilçesi yedikuyu...</td>\n",
       "      <td>Kış</td>\n",
       "    </tr>\n",
       "    <tr>\n",
       "      <th>3268</th>\n",
       "      <td>SALDA GÖLÜ</td>\n",
       "      <td>salda gölü burdur’un yaklaşık 64 km batısında ...</td>\n",
       "      <td>Doğa</td>\n",
       "    </tr>\n",
       "    <tr>\n",
       "      <th>3269</th>\n",
       "      <td>ANKARA KALESİ</td>\n",
       "      <td>ankara’nın sembollerinden olan ankara kalesi’n...</td>\n",
       "      <td>Kültür</td>\n",
       "    </tr>\n",
       "    <tr>\n",
       "      <th>3270</th>\n",
       "      <td>ŞAR ÖRENYERİ</td>\n",
       "      <td>şar örenyeri tufanbeyli ilçesinin kuzey ucunda...</td>\n",
       "      <td>Kültür</td>\n",
       "    </tr>\n",
       "  </tbody>\n",
       "</table>\n",
       "<p>3271 rows × 3 columns</p>\n",
       "</div>"
      ],
      "text/plain": [
       "                               Place  \\\n",
       "0                   SÜMELA MANASTIRI   \n",
       "1                      IHLARA VADİSİ   \n",
       "2                   DARA ANTİK KENTİ   \n",
       "3                        KIZ KALESİ    \n",
       "4     TİTUS TÜNELİ VE BEŞİKLİ MAĞARA   \n",
       "...                              ...   \n",
       "3266             YÜZBAŞISUYU ÇEŞMESİ   \n",
       "3267       YEDİKUYULAR KAYAK MERKEZİ   \n",
       "3268                      SALDA GÖLÜ   \n",
       "3269                   ANKARA KALESİ   \n",
       "3270                    ŞAR ÖRENYERİ   \n",
       "\n",
       "                                            Description Tourism  \n",
       "0     sümela manastırı meryem ana manastırı nerededi...   İnanç  \n",
       "1     tarihi kaynaklardaki adı peristremma olan ihla...    Doğa  \n",
       "2     dara antik kenti mardin’in 30 kilometre güneyd...  Kültür  \n",
       "3     deniz kalesi olarak bilinen kız kalesi adını v...  Kültür  \n",
       "4     hatayın samandağ i lçesi çevlik örenyeri yakın...    Doğa  \n",
       "...                                                 ...     ...  \n",
       "3266  sel değirmeni mahallesi yüzbaşısuyu sokak’ta y...  Kültür  \n",
       "3267  kahramanmaraş ili dulkadiroğlu ilçesi yedikuyu...     Kış  \n",
       "3268  salda gölü burdur’un yaklaşık 64 km batısında ...    Doğa  \n",
       "3269  ankara’nın sembollerinden olan ankara kalesi’n...  Kültür  \n",
       "3270  şar örenyeri tufanbeyli ilçesinin kuzey ucunda...  Kültür  \n",
       "\n",
       "[3271 rows x 3 columns]"
      ]
     },
     "execution_count": 26,
     "metadata": {},
     "output_type": "execute_result"
    }
   ],
   "source": [
    "# clean all texts\n",
    "\n",
    "cleaned_texts = []\n",
    "\n",
    "for text in my_df.Description:\n",
    "    cleaned_texts.append(clean_text(text))\n",
    "\n",
    "my_df.Description = cleaned_texts\n",
    "my_df"
   ]
  },
  {
   "cell_type": "code",
   "execution_count": 29,
   "metadata": {},
   "outputs": [],
   "source": [
    "my_df.to_csv('preprocessed_df.csv', sep='\\t')"
   ]
  },
  {
   "cell_type": "code",
   "execution_count": 3,
   "metadata": {},
   "outputs": [
    {
     "data": {
      "text/html": [
       "<div>\n",
       "<style scoped>\n",
       "    .dataframe tbody tr th:only-of-type {\n",
       "        vertical-align: middle;\n",
       "    }\n",
       "\n",
       "    .dataframe tbody tr th {\n",
       "        vertical-align: top;\n",
       "    }\n",
       "\n",
       "    .dataframe thead th {\n",
       "        text-align: right;\n",
       "    }\n",
       "</style>\n",
       "<table border=\"1\" class=\"dataframe\">\n",
       "  <thead>\n",
       "    <tr style=\"text-align: right;\">\n",
       "      <th></th>\n",
       "      <th>Unnamed: 0.1</th>\n",
       "      <th>Unnamed: 0</th>\n",
       "      <th>Place</th>\n",
       "      <th>Description</th>\n",
       "      <th>Tourism</th>\n",
       "    </tr>\n",
       "  </thead>\n",
       "  <tbody>\n",
       "    <tr>\n",
       "      <th>0</th>\n",
       "      <td>0</td>\n",
       "      <td>0</td>\n",
       "      <td>SÜMELA MANASTIRI</td>\n",
       "      <td>sümela manastırı meryem ana manastırı nerededi...</td>\n",
       "      <td>İnanç</td>\n",
       "    </tr>\n",
       "    <tr>\n",
       "      <th>1</th>\n",
       "      <td>1</td>\n",
       "      <td>1</td>\n",
       "      <td>IHLARA VADİSİ</td>\n",
       "      <td>tarihi kaynaklardaki adı peristremma olan ihla...</td>\n",
       "      <td>Doğa</td>\n",
       "    </tr>\n",
       "    <tr>\n",
       "      <th>2</th>\n",
       "      <td>2</td>\n",
       "      <td>2</td>\n",
       "      <td>DARA ANTİK KENTİ</td>\n",
       "      <td>dara antik kenti mardin’in 30 kilometre güneyd...</td>\n",
       "      <td>Kültür</td>\n",
       "    </tr>\n",
       "    <tr>\n",
       "      <th>3</th>\n",
       "      <td>3</td>\n",
       "      <td>3</td>\n",
       "      <td>KIZ KALESİ</td>\n",
       "      <td>deniz kalesi olarak bilinen kız kalesi adını v...</td>\n",
       "      <td>Kültür</td>\n",
       "    </tr>\n",
       "    <tr>\n",
       "      <th>4</th>\n",
       "      <td>4</td>\n",
       "      <td>4</td>\n",
       "      <td>TİTUS TÜNELİ VE BEŞİKLİ MAĞARA</td>\n",
       "      <td>hatayın samandağ i lçesi çevlik örenyeri yakın...</td>\n",
       "      <td>Doğa</td>\n",
       "    </tr>\n",
       "    <tr>\n",
       "      <th>...</th>\n",
       "      <td>...</td>\n",
       "      <td>...</td>\n",
       "      <td>...</td>\n",
       "      <td>...</td>\n",
       "      <td>...</td>\n",
       "    </tr>\n",
       "    <tr>\n",
       "      <th>3266</th>\n",
       "      <td>3266</td>\n",
       "      <td>3266</td>\n",
       "      <td>YÜZBAŞISUYU ÇEŞMESİ</td>\n",
       "      <td>sel değirmeni mahallesi yüzbaşısuyu sokak’ta y...</td>\n",
       "      <td>Kültür</td>\n",
       "    </tr>\n",
       "    <tr>\n",
       "      <th>3267</th>\n",
       "      <td>3267</td>\n",
       "      <td>3267</td>\n",
       "      <td>YEDİKUYULAR KAYAK MERKEZİ</td>\n",
       "      <td>kahramanmaraş ili dulkadiroğlu ilçesi yedikuyu...</td>\n",
       "      <td>Kış</td>\n",
       "    </tr>\n",
       "    <tr>\n",
       "      <th>3268</th>\n",
       "      <td>3268</td>\n",
       "      <td>3268</td>\n",
       "      <td>SALDA GÖLÜ</td>\n",
       "      <td>salda gölü burdur’un yaklaşık 64 km batısında ...</td>\n",
       "      <td>Doğa</td>\n",
       "    </tr>\n",
       "    <tr>\n",
       "      <th>3269</th>\n",
       "      <td>3269</td>\n",
       "      <td>3269</td>\n",
       "      <td>ANKARA KALESİ</td>\n",
       "      <td>ankara’nın sembollerinden olan ankara kalesi’n...</td>\n",
       "      <td>Kültür</td>\n",
       "    </tr>\n",
       "    <tr>\n",
       "      <th>3270</th>\n",
       "      <td>3270</td>\n",
       "      <td>3270</td>\n",
       "      <td>ŞAR ÖRENYERİ</td>\n",
       "      <td>şar örenyeri tufanbeyli ilçesinin kuzey ucunda...</td>\n",
       "      <td>Kültür</td>\n",
       "    </tr>\n",
       "  </tbody>\n",
       "</table>\n",
       "<p>3271 rows × 5 columns</p>\n",
       "</div>"
      ],
      "text/plain": [
       "      Unnamed: 0.1  Unnamed: 0                           Place  \\\n",
       "0                0           0                SÜMELA MANASTIRI   \n",
       "1                1           1                   IHLARA VADİSİ   \n",
       "2                2           2                DARA ANTİK KENTİ   \n",
       "3                3           3                     KIZ KALESİ    \n",
       "4                4           4  TİTUS TÜNELİ VE BEŞİKLİ MAĞARA   \n",
       "...            ...         ...                             ...   \n",
       "3266          3266        3266             YÜZBAŞISUYU ÇEŞMESİ   \n",
       "3267          3267        3267       YEDİKUYULAR KAYAK MERKEZİ   \n",
       "3268          3268        3268                      SALDA GÖLÜ   \n",
       "3269          3269        3269                   ANKARA KALESİ   \n",
       "3270          3270        3270                    ŞAR ÖRENYERİ   \n",
       "\n",
       "                                            Description Tourism  \n",
       "0     sümela manastırı meryem ana manastırı nerededi...   İnanç  \n",
       "1     tarihi kaynaklardaki adı peristremma olan ihla...    Doğa  \n",
       "2     dara antik kenti mardin’in 30 kilometre güneyd...  Kültür  \n",
       "3     deniz kalesi olarak bilinen kız kalesi adını v...  Kültür  \n",
       "4     hatayın samandağ i lçesi çevlik örenyeri yakın...    Doğa  \n",
       "...                                                 ...     ...  \n",
       "3266  sel değirmeni mahallesi yüzbaşısuyu sokak’ta y...  Kültür  \n",
       "3267  kahramanmaraş ili dulkadiroğlu ilçesi yedikuyu...     Kış  \n",
       "3268  salda gölü burdur’un yaklaşık 64 km batısında ...    Doğa  \n",
       "3269  ankara’nın sembollerinden olan ankara kalesi’n...  Kültür  \n",
       "3270  şar örenyeri tufanbeyli ilçesinin kuzey ucunda...  Kültür  \n",
       "\n",
       "[3271 rows x 5 columns]"
      ]
     },
     "execution_count": 3,
     "metadata": {},
     "output_type": "execute_result"
    }
   ],
   "source": [
    "my_df = pd.read_csv('preprocessed_df.csv', sep='\\t')\n",
    "my_df"
   ]
  },
  {
   "cell_type": "code",
   "execution_count": 4,
   "metadata": {},
   "outputs": [
    {
     "data": {
      "text/plain": [
       "'deniz kalesi olarak bilinen kız kalesi adını verdiği mahalle sahilindeki küçük bir adacığın üzerinde kurulmuştur kıyıya uzaklığı yaklaşık 600 metredir burada bulunan bir yazıttan 1199 yılında i leon tarafından yaptırılmış olduğu öğrenilmiştir1361’de kıbrıs krallığı tarafından zapt edilmiştir strabon roma dönemi’nde korsanların kaleyi barınak olarak kullandıklarından bahsetmektedir kale bizans ermeniler tarafından karadaki kale kadar önemsenmiştir kalenin girişi kuzeydedirburada devşirme malzeme kullanılmıştır yine zaman zaman moloz taşların kullanıldığı yerler büyük bir olasılıkla lusignanlar dönemine ait olmalıdır 192 metre uzunluğundaki mazgal delikleri açılmış kale suru üzerine üçgen dörtgen yuvarlak biçiminde 8 burç oturtulmuştur batıdaki sur boyunca uzanan iyi korunmuş bir galeri buradan denize açılan bir kapı bulunmaktadırmersin arkeoloji müzesi tarafından yapılan temizlik kazısı sırasında kalenin orta alanında bir yapı kompleksi ortaya çıkarılmıştır yapı kompleksi içerisinde bir şapel bulunmaktadır yapı topluluğu müşterek plan veren şapelin kalenin avlusunda bulunan diğer şapelden eski olduğu anlaşılmıştır ayrıca tabanda mozaiklerin yanı sıra opus sectile zemin döşemesi uygulanmıştırçevresindeki odalar orta mek ndaki salona açılmaktadır kare planlı odaların zemini kuzeye doğru yükselmektedir taban mozaiği üzerinde yuvarlak saç örgüsü içinde beş satır yazı alanın batı köşesindeki revak üzerinde başka bir yazıt bulunmaktadır kale avlusu içerisinde sarnıçlar işlikler yer almaktadırkız kalesi efsanesikızkalesi’nin farklı yerler anlatılan bir efsanesi bulunmaktadır vaktiyle bir kral varmış sevdiği tek kızının geleceğini öğrenmek bir falcıya danışmış kızının yılan tarafından sokularak öleceğini öğrenince prenses kaleyi yaptırmış böylece onun can güvencesini sağladığını zanneden kral bir gün kızına bir sepet üzüm göndermiş var sepette gizlenen yılan kızı sokarak öldürmüş benzer bir anlatım i stanbuldaki kızkulesi kullanılmaktadırkız kalesine gidilirmersinin 60 kilometre güneybatısında kızkalesi beldesinde yeralan kızkalesine şehir içi ulaşım araçları gidilebilir'"
      ]
     },
     "execution_count": 4,
     "metadata": {},
     "output_type": "execute_result"
    }
   ],
   "source": [
    "my_df['Description'][3]"
   ]
  },
  {
   "cell_type": "code",
   "execution_count": null,
   "metadata": {},
   "outputs": [],
   "source": []
  }
 ],
 "metadata": {
  "kernelspec": {
   "display_name": "Python 3",
   "language": "python",
   "name": "python3"
  },
  "language_info": {
   "codemirror_mode": {
    "name": "ipython",
    "version": 3
   },
   "file_extension": ".py",
   "mimetype": "text/x-python",
   "name": "python",
   "nbconvert_exporter": "python",
   "pygments_lexer": "ipython3",
   "version": "3.8.5"
  }
 },
 "nbformat": 4,
 "nbformat_minor": 4
}
