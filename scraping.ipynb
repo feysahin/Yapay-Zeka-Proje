{
 "cells": [
  {
   "cell_type": "markdown",
   "metadata": {},
   "source": [
    "#### websitesinde oldukça fazla örnek bulunduğundan -projede hepsi çekilse de- göstermelik sadece ilk 4 mekan çekilerek gösterilmiştir."
   ]
  },
  {
   "cell_type": "code",
   "execution_count": 1,
   "metadata": {},
   "outputs": [],
   "source": [
    "from selenium import webdriver\n",
    "from selenium.webdriver.chrome.options import Options\n",
    "from selenium.webdriver.support.ui import WebDriverWait\n",
    "from bs4 import BeautifulSoup\n",
    "from selenium.webdriver.common.by import By\n",
    "from selenium.common.exceptions import TimeoutException\n",
    "import pickle\n",
    "\n",
    "import json\n",
    "import requests\n",
    "import csv\n",
    "import pandas as pd\n",
    "import numpy as np\n",
    "\n",
    "import urllib3\n",
    "urllib3.disable_warnings(urllib3.exceptions.InsecureRequestWarning)\n",
    "\n",
    "import warnings\n",
    "warnings.filterwarnings(\"ignore\") "
   ]
  },
  {
   "cell_type": "markdown",
   "metadata": {},
   "source": [
    "## All URL's from main pages "
   ]
  },
  {
   "cell_type": "code",
   "execution_count": 8,
   "metadata": {},
   "outputs": [],
   "source": [
    "def get_URLs(page_num):\n",
    "    \n",
    "    options = Options()\n",
    "    options.headless = True\n",
    "    options.add_argument(\"--window-size=1920,1200\")\n",
    "\n",
    "    DRIVER_PATH = 'chromedriver.exe'\n",
    "    driver = webdriver.Chrome(options=options, executable_path=DRIVER_PATH)\n",
    "\n",
    "    places = {}\n",
    "\n",
    "    # 34 sayfa gezilecek\n",
    "    for i in range(page_num):\n",
    "        \n",
    "        # her sayfadan 100 link çekilecek \n",
    "        mainurl = 'https://www.kulturportali.gov.tr/turkiye/genel/gezilecekyer?sayfa=' + str(i+1) + '&sayi=4'\n",
    "        driver.get(mainurl)\n",
    "\n",
    "        try:\n",
    "            WebDriverWait(driver, 10).until(lambda driver: len(\n",
    "                driver.find_elements(By.XPATH, \"//article[@class='portfolio-item']\")) == 4)\n",
    "        except TimeoutException:\n",
    "            print(\"Loading took too much time!\")\n",
    "\n",
    "        html = driver.page_source\n",
    "        soup = BeautifulSoup(html, 'html.parser')\n",
    "\n",
    "        # link ekleri çekilecek\n",
    "        for div in soup.find_all('div', {'class': 'portfolio-desc'}):\n",
    "            places[div.find('h3').text] = div.find('a')['href']\n",
    "\n",
    "    driver.quit()\n",
    "    return places"
   ]
  },
  {
   "cell_type": "code",
   "execution_count": 3,
   "metadata": {},
   "outputs": [],
   "source": [
    "def print_places(places):\n",
    "    for place, url in places.items():\n",
    "        print(place, \": \", url, \"\\n\")"
   ]
  },
  {
   "cell_type": "code",
   "execution_count": 4,
   "metadata": {},
   "outputs": [],
   "source": [
    "def save_json(file_name, dic):\n",
    "    with open(file_name, 'wb') as fp:\n",
    "        pickle.dump(dic, fp)"
   ]
  },
  {
   "cell_type": "code",
   "execution_count": 5,
   "metadata": {},
   "outputs": [],
   "source": [
    "def read_json(file_name):\n",
    "    with open(file_name, 'rb') as fp:\n",
    "        data = pickle.load(fp)\n",
    "    return data"
   ]
  },
  {
   "cell_type": "code",
   "execution_count": 9,
   "metadata": {},
   "outputs": [
    {
     "name": "stdout",
     "output_type": "stream",
     "text": [
      "Loading took too much time!\n"
     ]
    }
   ],
   "source": [
    "page_num = 1\n",
    "places = get_URLs(page_num)"
   ]
  },
  {
   "cell_type": "code",
   "execution_count": 10,
   "metadata": {},
   "outputs": [
    {
     "name": "stdout",
     "output_type": "stream",
     "text": [
      "SÜMELA MANASTIRI :  /turkiye/trabzon/gezilecekyer/meryem-ana-sumela-manastiri \n",
      "\n",
      "IHLARA VADİSİ :  /turkiye/aksaray/gezilecekyer/ihlara-vadisi \n",
      "\n",
      "DARA ANTİK KENTİ :  /turkiye/mardin/gezilecekyer/dara-antik-kenti \n",
      "\n",
      "KIZ KALESİ  :  /turkiye/mersin/gezilecekyer/kizkalesi-deniz-kalesi \n",
      "\n"
     ]
    }
   ],
   "source": [
    "print_places(places)"
   ]
  },
  {
   "cell_type": "code",
   "execution_count": null,
   "metadata": {},
   "outputs": [],
   "source": [
    "save_json('place_url.json', places)"
   ]
  },
  {
   "cell_type": "code",
   "execution_count": null,
   "metadata": {},
   "outputs": [],
   "source": [
    "place_url = read_json('place_url.json')\n",
    "names = list(place_url.keys())\n",
    "urls = list(place_url.values())\n",
    "print(names)"
   ]
  },
  {
   "cell_type": "code",
   "execution_count": 14,
   "metadata": {},
   "outputs": [
    {
     "name": "stdout",
     "output_type": "stream",
     "text": [
      "SÜMELA MANASTIRI\n",
      "IHLARA VADİSİ\n",
      "DARA ANTİK KENTİ\n",
      "KIZ KALESİ \n"
     ]
    }
   ],
   "source": [
    "for url in places.keys():\n",
    "    print(url)"
   ]
  },
  {
   "cell_type": "code",
   "execution_count": 15,
   "metadata": {},
   "outputs": [
    {
     "name": "stdout",
     "output_type": "stream",
     "text": [
      "/turkiye/trabzon/gezilecekyer/meryem-ana-sumela-manastiri\n",
      "/turkiye/aksaray/gezilecekyer/ihlara-vadisi\n",
      "/turkiye/mardin/gezilecekyer/dara-antik-kenti\n",
      "/turkiye/mersin/gezilecekyer/kizkalesi-deniz-kalesi\n"
     ]
    }
   ],
   "source": [
    "for url in places.values():\n",
    "    print(url)"
   ]
  },
  {
   "cell_type": "code",
   "execution_count": null,
   "metadata": {},
   "outputs": [],
   "source": [
    "for url in urls:\n",
    "    print(url)"
   ]
  },
  {
   "cell_type": "code",
   "execution_count": null,
   "metadata": {},
   "outputs": [],
   "source": [
    "len(urls)"
   ]
  },
  {
   "cell_type": "markdown",
   "metadata": {},
   "source": [
    "## Names - Descriptions - Labels"
   ]
  },
  {
   "cell_type": "code",
   "execution_count": 16,
   "metadata": {},
   "outputs": [],
   "source": [
    "def get_URLs(names, urls):\n",
    "    \n",
    "    options = Options()\n",
    "    options.headless = True\n",
    "    options.add_argument(\"--window-size=1920,1200\")\n",
    "\n",
    "    DRIVER_PATH = 'chromedriver.exe'\n",
    "    driver = webdriver.Chrome(options=options, executable_path=DRIVER_PATH)\n",
    "\n",
    "    places_desc = []\n",
    "    i=0\n",
    "    \n",
    "    labels = []\n",
    "    for url in urls:\n",
    "        \n",
    "        # önceki aşamada çekilen link ekleri main url'ye uçtan eklenerek mekan linkleri oluşturulacak        \n",
    "        mainurl = 'https://www.kulturportali.gov.tr'\n",
    "        mainurl += url\n",
    "        driver.get(mainurl)\n",
    "        print(mainurl)\n",
    "        \n",
    "        sentences = \"\"\n",
    "        resp = requests.get(mainurl, verify=False).text\n",
    "        soup = BeautifulSoup(resp)\n",
    "        sub_texts = soup.find(\"div\",{\"id\":\"descriptionDiv\"}).text\n",
    "        \n",
    "        for sub_text in sub_texts.split(\"\\n\"):\n",
    "            \n",
    "            # metnin bulunduğu kısımda istenmeyen ekler alınmayacak\n",
    "            if not sub_text.startswith(\"Fotoğraf\") and len(sub_text) > 2:\n",
    "                if sub_text.startswith(\"Kaynak:\"):\n",
    "                    break\n",
    "                sentences += sub_text            \n",
    "                                            \n",
    "        places_desc.append(sentences)\n",
    "        i += 1\n",
    "        \n",
    "        # labels\n",
    "        items = []\n",
    "        get_info = iter(soup.find_all(\"div\",{\"class\":\"col-md-6 col-sm-12\"}))\n",
    "        for item in get_info:\n",
    "            #label = item.find(\"label\")\n",
    "            #value = item.find(\"span\")\n",
    "                        \n",
    "            if item.find(\"label\").string == \"Turizm Türü: \":\n",
    "                labels.append(item.find(\"span\").string)\n",
    "                                            \n",
    "    driver.quit()\n",
    "    return places_desc, labels"
   ]
  },
  {
   "cell_type": "code",
   "execution_count": null,
   "metadata": {},
   "outputs": [],
   "source": [
    "#deneme = urls[:5]"
   ]
  },
  {
   "cell_type": "code",
   "execution_count": null,
   "metadata": {
    "scrolled": true
   },
   "outputs": [],
   "source": [
    "places_desc, labels = get_URLs(names, urls)"
   ]
  },
  {
   "cell_type": "code",
   "execution_count": 17,
   "metadata": {},
   "outputs": [
    {
     "name": "stdout",
     "output_type": "stream",
     "text": [
      "https://www.kulturportali.gov.tr/turkiye/trabzon/gezilecekyer/meryem-ana-sumela-manastiri\n",
      "https://www.kulturportali.gov.tr/turkiye/aksaray/gezilecekyer/ihlara-vadisi\n",
      "https://www.kulturportali.gov.tr/turkiye/mardin/gezilecekyer/dara-antik-kenti\n",
      "https://www.kulturportali.gov.tr/turkiye/mersin/gezilecekyer/kizkalesi-deniz-kalesi\n"
     ]
    }
   ],
   "source": [
    "places_desc, labels = get_URLs(places.keys(),places.values())"
   ]
  },
  {
   "cell_type": "code",
   "execution_count": 18,
   "metadata": {},
   "outputs": [
    {
     "data": {
      "text/plain": [
       "['İnanç-Kültür Turizmi',\n",
       " 'Doğa-Kültür Turizmi',\n",
       " 'Kültür Turizmi',\n",
       " 'Kültür Turizmi']"
      ]
     },
     "execution_count": 18,
     "metadata": {},
     "output_type": "execute_result"
    }
   ],
   "source": [
    "labels"
   ]
  },
  {
   "cell_type": "code",
   "execution_count": 19,
   "metadata": {
    "scrolled": true
   },
   "outputs": [
    {
     "data": {
      "text/plain": [
       "'Sümela Manastırı (Meryem Ana) Manastırı Nerededir?Trabzon’un Maçka İlçesi\\'nin Altındere Köyü sınırları içinde, Altındere vadisine hakim Karadağ’ın eteklerinde sarp bir kayalık üzerine kurulmuş olan\\xa0Sümela Manastırı, halk arasında \"Meryem Ana\" adı ile anılır. Vadiden yaklaşık 300 metre yükseklikte bulunan yapı, bu konumuyla manastırların şehir dışında, ormanlarda, mağara ve su kenarlarında kurulma geleneğini sürdürmüştür.\\xa0Meryem Ana\\xa0adına kurulan manastırın \"Sümela\" adını \"siyah\" anlamına gelen \"melas\" sözcüğünden aldığı söylenmektedir. Bu ismin manastırın kurulduğu koyu renkli Karadağlar’ dan geldiği düşünülmekte ise de Sümela kelimesi buradaki Meryem tasvirinin siyah rengine bağlanabilmektedir.Sümela Manastırı\\'nın TarihiRivayete göre Bizans İmparatoru\\xa0 I.Theodosius zamanında (375-395) Atina’dan gelen Barnabas ve Sophranios isimli iki rahip tarafından kurulmuş olan manastır, 6\\'ıncı yüzyılda İmparator Justinianus’un manastırın onarılarak genişletilmesini istemesi üzerine Generallerinden Belisarios tarafından tamir edilmiştir.Sümela Manastırı’nın şimdiki durumuyla varlığını 13\\'üncü yüzyıldan itibaren sürdürdüğü bilinmektedir. 1204 tarihinde kurulan Trabzon Komnenosları Prensliği’nden\\xa0 III. Alexios (1349-1390) zamanında manastırın önemi artmış ve fermanlarla gelir sağlanmıştır. III. Alexios’un oğlu III. Manuel ve sonraki prensler döneminde de Sümela yeni fermanlarla zenginleştirilmiştir.Doğu Karadeniz kıyılarının Türk egemenliğine girmesini takiben Osmanlı Padişahları pek çok manastırda olduğu gibi Sumela’nın da haklarını korumuşlar, bazı imtiyazlar vermişlerdir.Sümela Manastırı’nın 18. yüzyılda bir çok bölümü yenilenmiş, bazı duvarlar fresklerle süslenmiştir. 19. yüzyılda büyük binaların ilave edilmesiyle manastır muhteşem bir görünüm kazanmış, en zengin ve parlak dönemini yaşamıştır.\\xa0 Bu dönemde son şeklini alan manastır pek çok yabancı seyyahın ziyaret ettiği, yazılarına konu edilen bir yer haline gelmiştir. Trabzon’un 1916-1918 yılları arasındaki Rus işgali sırasında manastıra el konulmuş, 1923\\'den sonra tamamıyla boşaltılmıştır.Sümela Manastırı’nın başlıca bölümleri; Ana kaya kilisesi, birkaç şapel, mutfak, öğrenci odaları, misafirhane, kütüphane ile kutsal ayazma’dır. Bu yapılar topluluğu oldukça geniş bir alan üzerine inşa edilmiştir. Manastırın girişinde su getirdiği anlaşılan büyük su kemeri yamaca yaslanmış durumdadır. Çok gözlü olan bu kemerin bugün büyük bölümü yıkılmıştır.Dar uzun bir merdivenle manastırın ana girişine ulaşılmaktadır. Giriş kapısının yanında muhafız odaları bulunmaktadır. Buradan bir merdivenle iç avluya inilmektedir. Solda, manastırın esasını teşkil eden ve kilise haline getirilen mağaranın önünde çeşitli manastır binaları bulunmaktadır. Sağ tarafta kütüphane yer almaktadır. Yine sağda yamacın ön yüzünü kaplayan büyük balkonlu bölüm keşiş odaları ve misafir odaları olarak kullanılmıştır ve 1860 yılına tarihlenmektedir. Avlunun etrafındaki binalarda odalardaki dolapları, hücreleri, ocakları ile Türk sanatının etkileri de görülmektedir.Manastırın ana ünitesini meydana getiren kaya kilisesinin ve ona bitişik şapelin iç ve dış duvarları fresklerle donatılmıştır. Kaya kilisesinin içinde avluya bakan duvarda III. Alexios dönemine ait fresklerin varlığı tespit edilmiştir. Şapeldeki freskler ise 18\\'inci yüzyılın başlarına tarihlenmektedir ve üç ayrı devirde yapılan üç tabaka görülmektedir. En alt tabakanın freskleri daha üstün niteliktedir.Sümela Manastırı’nda yer yer sökülerek alınmış olan ve oldukça harap bir görünüm taşıyan fresklerde işlenen başlıca konular İncil’den alınmış sahneler,\\xa0Hz. İsa\\xa0ve\\xa0Meryem Ana’nın hayatı ile ilgili tasvirlerdir.'"
      ]
     },
     "execution_count": 19,
     "metadata": {},
     "output_type": "execute_result"
    }
   ],
   "source": [
    "places_desc[0]"
   ]
  },
  {
   "cell_type": "code",
   "execution_count": 21,
   "metadata": {},
   "outputs": [
    {
     "data": {
      "text/html": [
       "<div>\n",
       "<style scoped>\n",
       "    .dataframe tbody tr th:only-of-type {\n",
       "        vertical-align: middle;\n",
       "    }\n",
       "\n",
       "    .dataframe tbody tr th {\n",
       "        vertical-align: top;\n",
       "    }\n",
       "\n",
       "    .dataframe thead th {\n",
       "        text-align: right;\n",
       "    }\n",
       "</style>\n",
       "<table border=\"1\" class=\"dataframe\">\n",
       "  <thead>\n",
       "    <tr style=\"text-align: right;\">\n",
       "      <th></th>\n",
       "      <th>Place</th>\n",
       "      <th>Description</th>\n",
       "      <th>Tourism</th>\n",
       "    </tr>\n",
       "  </thead>\n",
       "  <tbody>\n",
       "    <tr>\n",
       "      <th>0</th>\n",
       "      <td>SÜMELA MANASTIRI</td>\n",
       "      <td>/turkiye/trabzon/gezilecekyer/meryem-ana-sumel...</td>\n",
       "      <td>İnanç-Kültür Turizmi</td>\n",
       "    </tr>\n",
       "    <tr>\n",
       "      <th>1</th>\n",
       "      <td>IHLARA VADİSİ</td>\n",
       "      <td>/turkiye/aksaray/gezilecekyer/ihlara-vadisi</td>\n",
       "      <td>Doğa-Kültür Turizmi</td>\n",
       "    </tr>\n",
       "    <tr>\n",
       "      <th>2</th>\n",
       "      <td>DARA ANTİK KENTİ</td>\n",
       "      <td>/turkiye/mardin/gezilecekyer/dara-antik-kenti</td>\n",
       "      <td>Kültür Turizmi</td>\n",
       "    </tr>\n",
       "    <tr>\n",
       "      <th>3</th>\n",
       "      <td>KIZ KALESİ</td>\n",
       "      <td>/turkiye/mersin/gezilecekyer/kizkalesi-deniz-k...</td>\n",
       "      <td>Kültür Turizmi</td>\n",
       "    </tr>\n",
       "  </tbody>\n",
       "</table>\n",
       "</div>"
      ],
      "text/plain": [
       "              Place                                        Description  \\\n",
       "0  SÜMELA MANASTIRI  /turkiye/trabzon/gezilecekyer/meryem-ana-sumel...   \n",
       "1     IHLARA VADİSİ        /turkiye/aksaray/gezilecekyer/ihlara-vadisi   \n",
       "2  DARA ANTİK KENTİ      /turkiye/mardin/gezilecekyer/dara-antik-kenti   \n",
       "3       KIZ KALESİ   /turkiye/mersin/gezilecekyer/kizkalesi-deniz-k...   \n",
       "\n",
       "                Tourism  \n",
       "0  İnanç-Kültür Turizmi  \n",
       "1   Doğa-Kültür Turizmi  \n",
       "2        Kültür Turizmi  \n",
       "3        Kültür Turizmi  "
      ]
     },
     "execution_count": 21,
     "metadata": {},
     "output_type": "execute_result"
    }
   ],
   "source": [
    "myDict = {\"Place\": places.keys(), \"Description\": places.values(), \"Tourism\": labels}\n",
    "df = pd.DataFrame.from_dict(myDict)\n",
    "df.head()"
   ]
  },
  {
   "cell_type": "code",
   "execution_count": 22,
   "metadata": {},
   "outputs": [
    {
     "data": {
      "text/plain": [
       "4"
      ]
     },
     "execution_count": 22,
     "metadata": {},
     "output_type": "execute_result"
    }
   ],
   "source": [
    "len(myDict['Place'])"
   ]
  },
  {
   "cell_type": "code",
   "execution_count": null,
   "metadata": {},
   "outputs": [],
   "source": [
    "with open('my_df.json', 'w') as fp:\n",
    "    json.dump(myDict, fp)"
   ]
  },
  {
   "cell_type": "code",
   "execution_count": null,
   "metadata": {},
   "outputs": [],
   "source": [
    "with open('my_df.json', encoding='utf-8') as f:\n",
    "    my_file = json.load(f)"
   ]
  },
  {
   "cell_type": "code",
   "execution_count": null,
   "metadata": {},
   "outputs": [],
   "source": [
    "my_df = pd.DataFrame(my_file)\n",
    "my_df"
   ]
  },
  {
   "cell_type": "code",
   "execution_count": null,
   "metadata": {},
   "outputs": [],
   "source": [
    "np.unique(my_df['Tourism'])"
   ]
  },
  {
   "cell_type": "code",
   "execution_count": null,
   "metadata": {},
   "outputs": [],
   "source": [
    "my_df[my_df['Tourism'] == 'Yayla Turizmi']"
   ]
  },
  {
   "cell_type": "code",
   "execution_count": null,
   "metadata": {},
   "outputs": [],
   "source": [
    "myDict"
   ]
  },
  {
   "cell_type": "code",
   "execution_count": null,
   "metadata": {},
   "outputs": [],
   "source": []
  }
 ],
 "metadata": {
  "kernelspec": {
   "display_name": "Python 3",
   "language": "python",
   "name": "python3"
  },
  "language_info": {
   "codemirror_mode": {
    "name": "ipython",
    "version": 3
   },
   "file_extension": ".py",
   "mimetype": "text/x-python",
   "name": "python",
   "nbconvert_exporter": "python",
   "pygments_lexer": "ipython3",
   "version": "3.8.5"
  }
 },
 "nbformat": 4,
 "nbformat_minor": 4
}
